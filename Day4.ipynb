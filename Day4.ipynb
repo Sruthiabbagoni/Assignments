{
  "cells": [
    {
      "cell_type": "markdown",
      "metadata": {
        "id": "view-in-github",
        "colab_type": "text"
      },
      "source": [
        "<a href=\"https://colab.research.google.com/github/Sruthiabbagoni/Assignments/blob/main/Day4.ipynb\" target=\"_parent\"><img src=\"https://colab.research.google.com/assets/colab-badge.svg\" alt=\"Open In Colab\"/></a>"
      ]
    },
    {
      "cell_type": "code",
      "execution_count": null,
      "id": "bb199519-1abc-471f-a998-615d50e2f946",
      "metadata": {
        "id": "bb199519-1abc-471f-a998-615d50e2f946",
        "outputId": "3313e4f4-9877-4acc-e4e1-00f3fff020b5"
      },
      "outputs": [
        {
          "name": "stdin",
          "output_type": "stream",
          "text": [
            "Enter a Number:  10\n"
          ]
        },
        {
          "name": "stdout",
          "output_type": "stream",
          "text": [
            "30\n"
          ]
        }
      ],
      "source": [
        "# Write a Python program to calculate the sum of all even numbers between 1 and a given positive integer n\n",
        "n = int(input(\"Enter a Number: \"))\n",
        "count = 0\n",
        "for i in range(1, n+1):\n",
        "    if i%2==0:\n",
        "        count = i + count\n",
        "print(count)"
      ]
    },
    {
      "cell_type": "code",
      "execution_count": null,
      "id": "4a55754e-c6a9-4bd3-8d1b-a9d633b63ae5",
      "metadata": {
        "id": "4a55754e-c6a9-4bd3-8d1b-a9d633b63ae5"
      },
      "outputs": [],
      "source": []
    }
  ],
  "metadata": {
    "kernelspec": {
      "display_name": "Python [conda env:anaconda3]",
      "language": "python",
      "name": "conda-env-anaconda3-py"
    },
    "language_info": {
      "codemirror_mode": {
        "name": "ipython",
        "version": 3
      },
      "file_extension": ".py",
      "mimetype": "text/x-python",
      "name": "python",
      "nbconvert_exporter": "python",
      "pygments_lexer": "ipython3",
      "version": "3.12.7"
    },
    "colab": {
      "provenance": [],
      "include_colab_link": true
    }
  },
  "nbformat": 4,
  "nbformat_minor": 5
}