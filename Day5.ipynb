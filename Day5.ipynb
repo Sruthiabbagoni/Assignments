{
 "cells": [
  {
   "cell_type": "code",
   "execution_count": 4,
   "id": "73c7662f-0091-4b2d-8dc7-1a6bc7201f3d",
   "metadata": {},
   "outputs": [
    {
     "name": "stdin",
     "output_type": "stream",
     "text": [
      "Enter the text:  How are you?\n"
     ]
    },
    {
     "name": "stdout",
     "output_type": "stream",
     "text": [
      "\n",
      "Word Frequencies:\n",
      "how: 1\n",
      "are: 1\n",
      "you?: 1\n"
     ]
    }
   ],
   "source": [
    "#write a python program to print the frequncey of each word in given text print the words and their corresponding counts\n",
    "# Input: Get the text from the user\n",
    "text = input(\"Enter the text: \")\n",
    "\n",
    "# Split the text into words and normalize (convert to lowercase)\n",
    "words = text.lower().split()\n",
    "\n",
    "# Create a dictionary to store word frequencies\n",
    "word_frequency = {}\n",
    "\n",
    "# Count the frequency of each word\n",
    "for word in words:\n",
    "    word_frequency[word] = word_frequency.get(word, 0) + 1\n",
    "\n",
    "# Print each word and its frequency\n",
    "print(\"\\nWord Frequencies:\")\n",
    "for word, count in word_frequency.items():\n",
    "    print(f\"{word}: {count}\")"
   ]
  },
  {
   "cell_type": "code",
   "execution_count": null,
   "id": "36d57c21-b791-4acd-a33f-a9c3819bda9a",
   "metadata": {},
   "outputs": [],
   "source": []
  }
 ],
 "metadata": {
  "kernelspec": {
   "display_name": "Python [conda env:anaconda3]",
   "language": "python",
   "name": "conda-env-anaconda3-py"
  },
  "language_info": {
   "codemirror_mode": {
    "name": "ipython",
    "version": 3
   },
   "file_extension": ".py",
   "mimetype": "text/x-python",
   "name": "python",
   "nbconvert_exporter": "python",
   "pygments_lexer": "ipython3",
   "version": "3.12.7"
  }
 },
 "nbformat": 4,
 "nbformat_minor": 5
}
