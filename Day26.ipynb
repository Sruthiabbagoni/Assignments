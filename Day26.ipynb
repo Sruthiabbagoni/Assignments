{
  "nbformat": 4,
  "nbformat_minor": 0,
  "metadata": {
    "colab": {
      "provenance": [],
      "authorship_tag": "ABX9TyO19gtAiExOo6ieb6tNgLl+",
      "include_colab_link": true
    },
    "kernelspec": {
      "name": "python3",
      "display_name": "Python 3"
    },
    "language_info": {
      "name": "python"
    }
  },
  "cells": [
    {
      "cell_type": "markdown",
      "metadata": {
        "id": "view-in-github",
        "colab_type": "text"
      },
      "source": [
        "<a href=\"https://colab.research.google.com/github/Sruthiabbagoni/Assignments/blob/main/Day26.ipynb\" target=\"_parent\"><img src=\"https://colab.research.google.com/assets/colab-badge.svg\" alt=\"Open In Colab\"/></a>"
      ]
    },
    {
      "cell_type": "code",
      "execution_count": 1,
      "metadata": {
        "colab": {
          "base_uri": "https://localhost:8080/"
        },
        "id": "uM89Y3VxhIEz",
        "outputId": "346fc0c1-e541-42a0-da3b-33f4e0988c34"
      },
      "outputs": [
        {
          "output_type": "stream",
          "name": "stdout",
          "text": [
            "Enter first text: NLP and machine learning are amazing\n",
            "Enter second text: I love machine learning and NLP\n",
            "Cosine Similarity: 0.5803\n"
          ]
        }
      ],
      "source": [
        "from sklearn.feature_extraction.text import TfidfVectorizer\n",
        "from sklearn.metrics.pairwise import cosine_similarity\n",
        "\n",
        "def calculate_cosine_similarity(text1, text2):\n",
        "    \"\"\"Calculate cosine similarity between two strings.\"\"\"\n",
        "    vectorizer = TfidfVectorizer()\n",
        "    tfidf_matrix = vectorizer.fit_transform([text1, text2])\n",
        "    similarity = cosine_similarity(tfidf_matrix[0], tfidf_matrix[1])\n",
        "    return similarity[0][0]\n",
        "\n",
        "def main():\n",
        "    text1 = input(\"Enter first text: \")\n",
        "    text2 = input(\"Enter second text: \")\n",
        "    similarity_score = calculate_cosine_similarity(text1, text2)\n",
        "    print(f\"Cosine Similarity: {similarity_score:.4f}\")\n",
        "\n",
        "if __name__ == \"__main__\":\n",
        "    main()\n"
      ]
    }
  ]
}