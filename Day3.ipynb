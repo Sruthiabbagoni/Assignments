{
 "cells": [
  {
   "cell_type": "code",
   "execution_count": null,
   "id": "f9ee986d-2b37-4ec4-abfa-c0e3b70206ec",
   "metadata": {},
   "outputs": [],
   "source": [
    "subject1 = float(input(\"Enter marks for Subject 1: \"))\n",
    "subject2 = float(input(\"Enter marks for Subject 2: \"))\n",
    "subject3 = float(input(\"Enter marks for Subject 3: \"))\n",
    "\n",
    "# Calculate the average\n",
    "average = (subject1 + subject2 + subject3) / 3\n",
    "\n",
    "# Determine the grade\n",
    "if average >= 90:\n",
    "    grade = \"A\"\n",
    "elif 80 <= average < 90:\n",
    "    grade = \"B\"\n",
    "elif 70 <= average < 80:\n",
    "    grade = \"C\"\n",
    "else:\n",
    "    grade = \"Fail\"\n",
    "\n",
    "# Print the grade\n",
    "print(f\"Average Marks: {average:.2f}\")\n",
    "print(f\"Grade: {grade}\")"
   ]
  }
 ],
 "metadata": {
  "kernelspec": {
   "display_name": "Python [conda env:anaconda3]",
   "language": "python",
   "name": "conda-env-anaconda3-py"
  },
  "language_info": {
   "codemirror_mode": {
    "name": "ipython",
    "version": 3
   },
   "file_extension": ".py",
   "mimetype": "text/x-python",
   "name": "python",
   "nbconvert_exporter": "python",
   "pygments_lexer": "ipython3",
   "version": "3.12.7"
  }
 },
 "nbformat": 4,
 "nbformat_minor": 5
}
